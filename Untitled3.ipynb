{
 "cells": [
  {
   "cell_type": "code",
   "execution_count": null,
   "id": "6368c326-070d-40c6-88cb-f9d22d17116e",
   "metadata": {},
   "outputs": [],
   "source": [
    "*introduction to list datatype"
   ]
  },
  {
   "cell_type": "code",
   "execution_count": null,
   "id": "dfad9b9c-cccc-4fad-b3a9-f43aac6f1d66",
   "metadata": {},
   "outputs": [],
   "source": [
    "defination:a list is a collection of items declared in a partular order.\n",
    "classification:it is classified as an mutable datatype.\n",
    "how to declare the list------.[]"
   ]
  },
  {
   "cell_type": "code",
   "execution_count": null,
   "id": "71eab638-011e-4622-b93d-59692634cc87",
   "metadata": {},
   "outputs": [],
   "source": []
  },
  {
   "cell_type": "code",
   "execution_count": 44,
   "id": "eaf63aab-c3c5-47d6-99c3-59c38bb67cfc",
   "metadata": {},
   "outputs": [],
   "source": [
    "students=['saima','keerthi','naveen','kalyan','sajith','praveen']"
   ]
  },
  {
   "cell_type": "code",
   "execution_count": 58,
   "id": "c4477094-e27f-4719-8aaa-d3140e1486d4",
   "metadata": {},
   "outputs": [
    {
     "name": "stdout",
     "output_type": "stream",
     "text": [
      "['saima', 'keerthi', 'naveen', 'kalyan', 'sajith', 'praveen']\n"
     ]
    }
   ],
   "source": [
    "print(student)"
   ]
  },
  {
   "cell_type": "code",
   "execution_count": 56,
   "id": "e1cf1957-2770-43d3-998b-e8f2c5cabcf3",
   "metadata": {},
   "outputs": [
    {
     "data": {
      "text/plain": [
       "list"
      ]
     },
     "execution_count": 56,
     "metadata": {},
     "output_type": "execute_result"
    }
   ],
   "source": [
    "type(student)"
   ]
  },
  {
   "cell_type": "code",
   "execution_count": null,
   "id": "1d7333b6-4c6d-40e4-834f-b009c9f3bf33",
   "metadata": {},
   "outputs": [],
   "source": []
  },
  {
   "cell_type": "code",
   "execution_count": null,
   "id": "01c7275f-fc27-4d04-91ea-818570155230",
   "metadata": {},
   "outputs": [],
   "source": [
    "introduction to indexation:0,1,2,3,4,........n"
   ]
  },
  {
   "cell_type": "code",
   "execution_count": null,
   "id": "056a7ecf-001c-463e-9082-f536340768ea",
   "metadata": {},
   "outputs": [],
   "source": [
    "# req:i want to access keerthi name in the output-----? "
   ]
  },
  {
   "cell_type": "code",
   "execution_count": 54,
   "id": "165c8a6d-d182-4b8b-b888-924b5170a2cc",
   "metadata": {},
   "outputs": [
    {
     "name": "stdout",
     "output_type": "stream",
     "text": [
      "keerthi\n"
     ]
    }
   ],
   "source": [
    "print(student[1])"
   ]
  },
  {
   "cell_type": "code",
   "execution_count": 50,
   "id": "8a1461d8-3cd0-4eea-a5b4-ed8da04b1ff8",
   "metadata": {},
   "outputs": [
    {
     "name": "stdout",
     "output_type": "stream",
     "text": [
      "Keerthi\n"
     ]
    }
   ],
   "source": [
    "print(student[1].title())"
   ]
  },
  {
   "cell_type": "code",
   "execution_count": null,
   "id": "ad3d171e-a5a3-4c26-a371-d56aff6a91a6",
   "metadata": {},
   "outputs": [],
   "source": []
  },
  {
   "cell_type": "code",
   "execution_count": null,
   "id": "14821790-3032-4336-9064-18cca3c144be",
   "metadata": {},
   "outputs": [],
   "source": [
    "#req:i want to access kalyan name in the output-----?"
   ]
  },
  {
   "cell_type": "code",
   "execution_count": 60,
   "id": "bfc63620-0390-4de1-b16b-6a2c32d6185f",
   "metadata": {},
   "outputs": [
    {
     "name": "stdout",
     "output_type": "stream",
     "text": [
      "Kalyan\n"
     ]
    }
   ],
   "source": [
    "print(student[3].title())"
   ]
  },
  {
   "cell_type": "code",
   "execution_count": 62,
   "id": "fd634b93-927c-464f-a397-4f10a0774a02",
   "metadata": {},
   "outputs": [
    {
     "name": "stdout",
     "output_type": "stream",
     "text": [
      "['saima', 'keerthi', 'naveen', 'kalyan', 'sajith', 'praveen']\n"
     ]
    }
   ],
   "source": [
    "print(student)"
   ]
  },
  {
   "cell_type": "code",
   "execution_count": null,
   "id": "2fd87433-a93f-4bf6-ac11-e72b98991aea",
   "metadata": {},
   "outputs": [],
   "source": []
  },
  {
   "cell_type": "code",
   "execution_count": null,
   "id": "d8b5a404-d717-4f9f-9517-da62ca8a36e7",
   "metadata": {},
   "outputs": [],
   "source": [
    "#req:i want to add adil to the above list------"
   ]
  },
  {
   "cell_type": "code",
   "execution_count": 70,
   "id": "8e6d2c99-06f1-4866-8413-3c0f0c9558f6",
   "metadata": {},
   "outputs": [],
   "source": [
    "student.append('adil')"
   ]
  },
  {
   "cell_type": "code",
   "execution_count": 72,
   "id": "deed9c81-0ad1-494a-bb8f-adf5cc137ae9",
   "metadata": {},
   "outputs": [
    {
     "name": "stdout",
     "output_type": "stream",
     "text": [
      "['saima', 'keerthi', 'naveen', 'kalyan', 'sajith', 'praveen', 'adil']\n"
     ]
    }
   ],
   "source": [
    "print(student)"
   ]
  },
  {
   "cell_type": "code",
   "execution_count": null,
   "id": "3f285a24-a86b-4bae-b194-e7a422e30d9e",
   "metadata": {},
   "outputs": [],
   "source": []
  },
  {
   "cell_type": "code",
   "execution_count": null,
   "id": "b413d6d2-4e6d-4908-b947-d66fe3fb06ab",
   "metadata": {},
   "outputs": [],
   "source": [
    "#req:i want to suresh to the above list----"
   ]
  },
  {
   "cell_type": "code",
   "execution_count": 78,
   "id": "05c8be98-5754-4d4f-adc1-4c53fdccd3a5",
   "metadata": {},
   "outputs": [],
   "source": [
    "student.append('suresh')"
   ]
  },
  {
   "cell_type": "code",
   "execution_count": 80,
   "id": "876f9ece-8937-4894-8f9b-aecde4981668",
   "metadata": {},
   "outputs": [
    {
     "name": "stdout",
     "output_type": "stream",
     "text": [
      "['saima', 'keerthi', 'naveen', 'kalyan', 'sajith', 'praveen', 'adil', 'suresh']\n"
     ]
    }
   ],
   "source": [
    "print(student)"
   ]
  },
  {
   "cell_type": "code",
   "execution_count": null,
   "id": "82e09b6d-a57c-42e5-a181-f28774f38260",
   "metadata": {},
   "outputs": [],
   "source": []
  },
  {
   "cell_type": "code",
   "execution_count": null,
   "id": "3a195a31-4193-4ca1-8bc6-e581ca08bca0",
   "metadata": {},
   "outputs": [],
   "source": [
    "#req:i want to add neha at 2and index---"
   ]
  },
  {
   "cell_type": "code",
   "execution_count": 84,
   "id": "83e69a28-c1f5-4eda-9a59-0ddda85a7476",
   "metadata": {},
   "outputs": [],
   "source": [
    "student.insert(2,'neha')"
   ]
  },
  {
   "cell_type": "code",
   "execution_count": 86,
   "id": "da786a09-db4e-4f6f-bc3c-398727ed4acf",
   "metadata": {},
   "outputs": [
    {
     "name": "stdout",
     "output_type": "stream",
     "text": [
      "['saima', 'keerthi', 'neha', 'naveen', 'kalyan', 'sajith', 'praveen', 'adil', 'suresh']\n"
     ]
    }
   ],
   "source": [
    "print(student)"
   ]
  },
  {
   "cell_type": "code",
   "execution_count": null,
   "id": "713048f3-713f-487d-b3db-b0bb2add1f60",
   "metadata": {},
   "outputs": [],
   "source": []
  },
  {
   "cell_type": "code",
   "execution_count": null,
   "id": "06457b42-8aa6-4484-8551-d2ac5dcb8bd6",
   "metadata": {},
   "outputs": [],
   "source": [
    "#rewq:i want to modify keerthi name to kiran---- "
   ]
  },
  {
   "cell_type": "code",
   "execution_count": 88,
   "id": "cecdfca9-0ad6-4601-bd0d-717a1023f11c",
   "metadata": {},
   "outputs": [],
   "source": [
    "student[1]='kiren'"
   ]
  },
  {
   "cell_type": "code",
   "execution_count": 90,
   "id": "a0f8da7e-89a4-4517-8540-13bb37561ac2",
   "metadata": {},
   "outputs": [
    {
     "name": "stdout",
     "output_type": "stream",
     "text": [
      "['saima', 'kiren', 'neha', 'naveen', 'kalyan', 'sajith', 'praveen', 'adil', 'suresh']\n"
     ]
    }
   ],
   "source": [
    "print(student)"
   ]
  },
  {
   "cell_type": "code",
   "execution_count": null,
   "id": "5cb0d7ca-4f81-4a93-8835-7c156747c703",
   "metadata": {},
   "outputs": [],
   "source": []
  },
  {
   "cell_type": "code",
   "execution_count": null,
   "id": "7447a0f4-e87f-4146-b7cb-ef877a4c6e02",
   "metadata": {},
   "outputs": [],
   "source": [
    "#req:i want to delete neha in the above list---- "
   ]
  },
  {
   "cell_type": "code",
   "execution_count": null,
   "id": "33498747-464a-4b64-a641-ca0a83764b04",
   "metadata": {},
   "outputs": [],
   "source": [
    "delstudent[]"
   ]
  },
  {
   "cell_type": "code",
   "execution_count": null,
   "id": "2dfd28c5-2afd-47c5-baa3-4575f52912be",
   "metadata": {},
   "outputs": [],
   "source": []
  },
  {
   "cell_type": "code",
   "execution_count": null,
   "id": "6098aaa8-31d7-4506-9fc7-82d7ec43017f",
   "metadata": {},
   "outputs": [],
   "source": []
  }
 ],
 "metadata": {
  "kernelspec": {
   "display_name": "Python 3 (ipykernel)",
   "language": "python",
   "name": "python3"
  },
  "language_info": {
   "codemirror_mode": {
    "name": "ipython",
    "version": 3
   },
   "file_extension": ".py",
   "mimetype": "text/x-python",
   "name": "python",
   "nbconvert_exporter": "python",
   "pygments_lexer": "ipython3",
   "version": "3.12.4"
  }
 },
 "nbformat": 4,
 "nbformat_minor": 5
}
