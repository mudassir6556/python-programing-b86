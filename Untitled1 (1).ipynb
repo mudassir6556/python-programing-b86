{
 "cells": [
  {
   "cell_type": "code",
   "execution_count": 1,
   "id": "2e81eff8-5c4c-473f-9c7e-2ce6708d647d",
   "metadata": {},
   "outputs": [
    {
     "name": "stdout",
     "output_type": "stream",
     "text": [
      "hello all welcome to the python programing wordld!\n"
     ]
    }
   ],
   "source": [
    "print(\"hello all welcome to the python programing wordld!\")"
   ]
  },
  {
   "cell_type": "code",
   "execution_count": null,
   "id": "8112b3b8-5b37-46a3-a15f-d3626d0e101e",
   "metadata": {},
   "outputs": [],
   "source": [
    "# Rules for declaring the varibles"
   ]
  },
  {
   "cell_type": "code",
   "execution_count": null,
   "id": "d9f688de-ea99-42b7-bb73-336cea8f72e6",
   "metadata": {},
   "outputs": [],
   "source": [
    "Rule no:1 no namespace while dwclaring the variable name."
   ]
  },
  {
   "cell_type": "code",
   "execution_count": 41,
   "id": "ada76823-26ec-4c50-a258-a78e3ad2c6bb",
   "metadata": {},
   "outputs": [
    {
     "ename": "SyntaxError",
     "evalue": "invalid syntax (3178077566.py, line 1)",
     "output_type": "error",
     "traceback": [
      "\u001b[1;36m  Cell \u001b[1;32mIn[41], line 1\u001b[1;36m\u001b[0m\n\u001b[1;33m    first name=\"faiyaz\"\u001b[0m\n\u001b[1;37m          ^\u001b[0m\n\u001b[1;31mSyntaxError\u001b[0m\u001b[1;31m:\u001b[0m invalid syntax\n"
     ]
    }
   ],
   "source": [
    "first name=\"faiyaz\"\n",
    "print(first name)"
   ]
  },
  {
   "cell_type": "code",
   "execution_count": 9,
   "id": "4a3524b8-1b5e-4865-a9b0-11dd9a745010",
   "metadata": {},
   "outputs": [
    {
     "name": "stdout",
     "output_type": "stream",
     "text": [
      "faiyaz\n"
     ]
    }
   ],
   "source": [
    "firstname=\"faiyaz\"\n",
    "print(firstname)"
   ]
  },
  {
   "cell_type": "code",
   "execution_count": 13,
   "id": "e9388c35-937a-4070-a764-5600cd985634",
   "metadata": {},
   "outputs": [
    {
     "name": "stdout",
     "output_type": "stream",
     "text": [
      "fayaz\n"
     ]
    }
   ],
   "source": [
    "first_name=\"fayaz\"\n",
    "print(first_name)"
   ]
  },
  {
   "cell_type": "code",
   "execution_count": null,
   "id": "7d3d03c2-76bd-4198-852d-1d96f214636b",
   "metadata": {},
   "outputs": [],
   "source": [
    "Rule no:2 A varible name should not start with a number**"
   ]
  },
  {
   "cell_type": "code",
   "execution_count": 15,
   "id": "2575cb5b-3135-47a4-9725-e83f3eb178d1",
   "metadata": {},
   "outputs": [
    {
     "ename": "SyntaxError",
     "evalue": "invalid decimal literal (1191664695.py, line 1)",
     "output_type": "error",
     "traceback": [
      "\u001b[1;36m  Cell \u001b[1;32mIn[15], line 1\u001b[1;36m\u001b[0m\n\u001b[1;33m    1name=\"kumar\"\u001b[0m\n\u001b[1;37m    ^\u001b[0m\n\u001b[1;31mSyntaxError\u001b[0m\u001b[1;31m:\u001b[0m invalid decimal literal\n"
     ]
    }
   ],
   "source": [
    "1name=\"kumar\"\n",
    "print(1name)"
   ]
  },
  {
   "cell_type": "code",
   "execution_count": 17,
   "id": "a5739047-685e-4085-bd34-7dc1d74f539e",
   "metadata": {},
   "outputs": [
    {
     "name": "stdout",
     "output_type": "stream",
     "text": [
      "kumar\n"
     ]
    }
   ],
   "source": [
    "name1=\"kumar\"\n",
    "print(name1)"
   ]
  },
  {
   "cell_type": "code",
   "execution_count": null,
   "id": "1c16e0e3-3f4f-4808-8b18-9b49435d8c94",
   "metadata": {},
   "outputs": [],
   "source": [
    "Rule no:3 A varible name should not contain anyspecial character(@,#,$,&,*, etc)"
   ]
  },
  {
   "cell_type": "code",
   "execution_count": 19,
   "id": "23b1934a-af9f-4167-b49e-23b8ed4c7c82",
   "metadata": {},
   "outputs": [
    {
     "ename": "SyntaxError",
     "evalue": "invalid syntax (3001328946.py, line 2)",
     "output_type": "error",
     "traceback": [
      "\u001b[1;36m  Cell \u001b[1;32mIn[19], line 2\u001b[1;36m\u001b[0m\n\u001b[1;33m    print(name@)\u001b[0m\n\u001b[1;37m               ^\u001b[0m\n\u001b[1;31mSyntaxError\u001b[0m\u001b[1;31m:\u001b[0m invalid syntax\n"
     ]
    }
   ],
   "source": [
    "name@=\"naveed\"\n",
    "print(name@)"
   ]
  },
  {
   "cell_type": "code",
   "execution_count": null,
   "id": "14065412-304b-4b7a-a3f1-86f397249e28",
   "metadata": {},
   "outputs": [],
   "source": []
  },
  {
   "cell_type": "code",
   "execution_count": null,
   "id": "7c451b59-8057-4ff4-8a27-5fefc1965902",
   "metadata": {},
   "outputs": [],
   "source": [
    "*INTRODACTION TO DATATYPES:"
   ]
  },
  {
   "cell_type": "code",
   "execution_count": null,
   "id": "5d564c36-cfca-43d7-9a91-58dae026273d",
   "metadata": {},
   "outputs": [],
   "source": [
    "1.string-str"
   ]
  },
  {
   "cell_type": "code",
   "execution_count": null,
   "id": "cd5e2367-abf8-4858-882e-15d3c7383e6d",
   "metadata": {},
   "outputs": [],
   "source": [
    "2.number-intergers(int)and flots(dicimal)"
   ]
  },
  {
   "cell_type": "code",
   "execution_count": null,
   "id": "e2b78991-39e2-4ce4-8dc9-1eae12f153dd",
   "metadata": {},
   "outputs": [],
   "source": [
    "3.list-list"
   ]
  },
  {
   "cell_type": "code",
   "execution_count": null,
   "id": "d09cc484-edb0-44b9-b41e-fefe79026836",
   "metadata": {},
   "outputs": [],
   "source": [
    "4.tuplies-tuple"
   ]
  },
  {
   "cell_type": "code",
   "execution_count": null,
   "id": "dc1134af-ca91-4a6f-9ece-c7bdeeb052fa",
   "metadata": {},
   "outputs": [],
   "source": [
    "5.discrib"
   ]
  },
  {
   "cell_type": "code",
   "execution_count": null,
   "id": "19cbb0f0-8c16-49bf-a01c-37be89593f62",
   "metadata": {},
   "outputs": [],
   "source": []
  },
  {
   "cell_type": "code",
   "execution_count": null,
   "id": "c8212562-660d-43aa-9bfd-1adab27f8f86",
   "metadata": {},
   "outputs": [],
   "source": [
    "* introduction to string datatypes"
   ]
  },
  {
   "cell_type": "code",
   "execution_count": null,
   "id": "772b87b5-19ad-434f-94b6-7288757f30e2",
   "metadata": {},
   "outputs": [],
   "source": [
    "defination: A string is a series of characters declared in quates.\n",
    "classification: it is classified as an immutable datatype how to declare the string datatypes----->?"
   ]
  },
  {
   "cell_type": "code",
   "execution_count": null,
   "id": "e242dbe1-6097-473d-9a84-dec499f424bf",
   "metadata": {},
   "outputs": [],
   "source": [
    "1.single quote------?"
   ]
  },
  {
   "cell_type": "code",
   "execution_count": null,
   "id": "96fe34ad-6e81-4813-a495-5acc4cd01894",
   "metadata": {},
   "outputs": [],
   "source": [
    "2.double quote-------?"
   ]
  },
  {
   "cell_type": "code",
   "execution_count": 21,
   "id": "30f50c1e-8e6f-45ab-a7e1-10da52aa4252",
   "metadata": {},
   "outputs": [
    {
     "name": "stdout",
     "output_type": "stream",
     "text": [
      "raju\n"
     ]
    }
   ],
   "source": [
    "name='raju'# single quote\n",
    "print(name)"
   ]
  },
  {
   "cell_type": "code",
   "execution_count": 23,
   "id": "3dc6913b-38e7-4ae5-9b3f-a87641ec2838",
   "metadata": {},
   "outputs": [
    {
     "name": "stdout",
     "output_type": "stream",
     "text": [
      "joseph\n"
     ]
    }
   ],
   "source": [
    "name2=\"joseph\"# double quote\n",
    "print(name2)"
   ]
  },
  {
   "cell_type": "code",
   "execution_count": null,
   "id": "3a122970-1625-49cc-bd5d-178a738af961",
   "metadata": {},
   "outputs": [],
   "source": []
  },
  {
   "cell_type": "code",
   "execution_count": null,
   "id": "1cfa49d4-2445-4c90-aeff-131bc7110cff",
   "metadata": {},
   "outputs": [],
   "source": [
    "*Introduction to string methods:"
   ]
  },
  {
   "cell_type": "code",
   "execution_count": 25,
   "id": "17d72ca5-73c0-4e54-a0c5-b3d40f5fed39",
   "metadata": {},
   "outputs": [
    {
     "data": {
      "text/plain": [
       "str"
      ]
     },
     "execution_count": 25,
     "metadata": {},
     "output_type": "execute_result"
    }
   ],
   "source": [
    "type(name)"
   ]
  },
  {
   "cell_type": "code",
   "execution_count": 27,
   "id": "23d41520-7968-4746-b7ec-f9e73d3b8962",
   "metadata": {},
   "outputs": [
    {
     "data": {
      "text/plain": [
       "str"
      ]
     },
     "execution_count": 27,
     "metadata": {},
     "output_type": "execute_result"
    }
   ],
   "source": [
    "type(name2)"
   ]
  },
  {
   "cell_type": "code",
   "execution_count": null,
   "id": "815a87e5-7238-46cd-8f12-7c7a99e9aa2d",
   "metadata": {},
   "outputs": [],
   "source": [
    "type methods is used to verify and validate what kind of datatype it is. "
   ]
  },
  {
   "cell_type": "code",
   "execution_count": 29,
   "id": "b03c8789-d552-4219-92f9-894a5be18478",
   "metadata": {},
   "outputs": [
    {
     "name": "stdout",
     "output_type": "stream",
     "text": [
      "ashwin raj\n"
     ]
    }
   ],
   "source": [
    "full_name='ashwin raj'\n",
    "print(full_name)"
   ]
  },
  {
   "cell_type": "code",
   "execution_count": 37,
   "id": "43f4561a-d03f-4cac-808c-d90d917cf07a",
   "metadata": {},
   "outputs": [
    {
     "name": "stdout",
     "output_type": "stream",
     "text": [
      "Ashwin Raj\n"
     ]
    }
   ],
   "source": [
    "print(full_name.title())"
   ]
  },
  {
   "cell_type": "code",
   "execution_count": null,
   "id": "981d570d-bac3-460d-a228-b9f4fea750f1",
   "metadata": {},
   "outputs": [],
   "source": []
  },
  {
   "cell_type": "code",
   "execution_count": null,
   "id": "555cbadc-18f2-47fd-8139-8de9ac8658a0",
   "metadata": {},
   "outputs": [],
   "source": [
    "# req: i want the entle name in small case letters."
   ]
  },
  {
   "cell_type": "code",
   "execution_count": 39,
   "id": "2987d655-5949-4e7d-82e1-c004ae1be135",
   "metadata": {},
   "outputs": [
    {
     "name": "stdout",
     "output_type": "stream",
     "text": [
      "ashwin raj\n"
     ]
    }
   ],
   "source": [
    "print(full_name.lower())"
   ]
  },
  {
   "cell_type": "code",
   "execution_count": null,
   "id": "fc3ef5bc-0d55-42ed-84f8-f50129419fec",
   "metadata": {},
   "outputs": [],
   "source": []
  },
  {
   "cell_type": "code",
   "execution_count": null,
   "id": "2dc01e19-3161-42af-b1ba-2d1d99e75cc2",
   "metadata": {},
   "outputs": [],
   "source": []
  },
  {
   "cell_type": "code",
   "execution_count": null,
   "id": "f4acc93d-f4f7-4d4d-8b43-cc9b3bf7b6f4",
   "metadata": {},
   "outputs": [],
   "source": []
  },
  {
   "cell_type": "code",
   "execution_count": null,
   "id": "dab839f4-44ea-445a-b470-52851d135dfd",
   "metadata": {},
   "outputs": [],
   "source": []
  }
 ],
 "metadata": {
  "kernelspec": {
   "display_name": "Python 3 (ipykernel)",
   "language": "python",
   "name": "python3"
  },
  "language_info": {
   "codemirror_mode": {
    "name": "ipython",
    "version": 3
   },
   "file_extension": ".py",
   "mimetype": "text/x-python",
   "name": "python",
   "nbconvert_exporter": "python",
   "pygments_lexer": "ipython3",
   "version": "3.12.4"
  }
 },
 "nbformat": 4,
 "nbformat_minor": 5
}
